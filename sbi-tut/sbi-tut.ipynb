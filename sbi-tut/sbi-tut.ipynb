{
 "cells": [
  {
   "cell_type": "code",
   "execution_count": 1,
   "id": "bcd43442",
   "metadata": {},
   "outputs": [],
   "source": [
    "import torch \n",
    "\n",
    "_ = torch.manual_seed(0) #set a manual seed to make it reproducible\n",
    "\n",
    "num_dim = 3 #theta is 3 dimensoins\n",
    "def simulator(theta): # creat a simulator where it takes some theta and adds some gaussian and +1 and adds gausian noise with std = 0.1\n",
    "    return theta + 1.0 + torch.rand_like(theta) * 0.1"
   ]
  },
  {
   "cell_type": "code",
   "execution_count": 2,
   "id": "47191af2",
   "metadata": {},
   "outputs": [
    {
     "name": "stderr",
     "output_type": "stream",
     "text": [
      "/opt/homebrew/Caskroom/miniconda/base/envs/sbi/lib/python3.12/site-packages/tqdm/auto.py:21: TqdmWarning: IProgress not found. Please update jupyter and ipywidgets. See https://ipywidgets.readthedocs.io/en/stable/user_install.html\n",
      "  from .autonotebook import tqdm as notebook_tqdm\n"
     ]
    }
   ],
   "source": [
    "from sbi.utils import BoxUniform\n",
    "\n",
    "prior = BoxUniform(low = -2 * torch.ones(num_dim), high =2 * torch.ones(num_dim))\n",
    "\n",
    "#you create a distribution for your priot in a 4x4x4 cube centered at the origin \n",
    "#so theta (1,2,3) can be between -2 and 2"
   ]
  },
  {
   "cell_type": "code",
   "execution_count": 3,
   "id": "807d21d6",
   "metadata": {},
   "outputs": [],
   "source": [
    "from sbi.inference import NPE\n",
    "inference = NPE(prior=prior)\n",
    "#NPE is algorithm of choice --> directly approximates posterior distribution\n",
    "#Sets up where training data will be stored and sets an algorithm \n",
    "#untrained"
   ]
  },
  {
   "cell_type": "code",
   "execution_count": 4,
   "id": "571533eb",
   "metadata": {},
   "outputs": [
    {
     "name": "stdout",
     "output_type": "stream",
     "text": [
      "theta.shape torch.Size([300, 3])\n",
      "x.shape  torch.Size([300, 3])\n"
     ]
    }
   ],
   "source": [
    "num_simulations = 300\n",
    "theta=prior.sample((num_simulations,))\n",
    "x = simulator(theta)   \n",
    "print('theta.shape', theta.shape)\n",
    "print(\"x.shape \", x.shape)\n",
    "\n",
    "#now you run the simulator 300 times productin 300 thetas and 300 x all of dim 3 \n",
    "#this is your training data"
   ]
  },
  {
   "cell_type": "code",
   "execution_count": null,
   "id": "16bb3abf",
   "metadata": {},
   "outputs": [],
   "source": [
    "inference = inference.append_simulations(theta, x)\n",
    "#assigns training data by feeding in inference object \n"
   ]
  },
  {
   "cell_type": "code",
   "execution_count": 6,
   "id": "a6ee0199",
   "metadata": {},
   "outputs": [
    {
     "name": "stdout",
     "output_type": "stream",
     "text": [
      " Neural network successfully converged after 308 epochs."
     ]
    }
   ],
   "source": [
    "density_estimator = inference.train()\n",
    "#actually training your nn\n",
    "#the object density_estimatore contains a trained model "
   ]
  },
  {
   "cell_type": "code",
   "execution_count": 8,
   "id": "63fb4a5f",
   "metadata": {},
   "outputs": [
    {
     "name": "stdout",
     "output_type": "stream",
     "text": [
      "Posterior p(θ|x) of type DirectPosterior. It samples the posterior network and rejects samples that\n",
      "            lie outside of the prior bounds.\n"
     ]
    }
   ],
   "source": [
    "posterior = inference.build_posterior()\n",
    "print(posterior)\n",
    "#builds a posterior which is your \"updated\" prior\n",
    "#allows you to geenrat possible theteas given some x\n"
   ]
  },
  {
   "cell_type": "markdown",
   "id": "d52f04e6",
   "metadata": {},
   "source": [
    "inferring the posterior"
   ]
  },
  {
   "cell_type": "code",
   "execution_count": null,
   "id": "1ba80e99",
   "metadata": {},
   "outputs": [],
   "source": [
    "x_obs = torch.as_tensor([0.8, 0.6, 0.4])\n",
    "#choose some observed x "
   ]
  },
  {
   "cell_type": "code",
   "execution_count": null,
   "id": "bc954183",
   "metadata": {},
   "outputs": [
    {
     "name": "stderr",
     "output_type": "stream",
     "text": [
      "100%|██████████| 100000/100000 [00:00<00:00, 221488.30it/s]\n"
     ]
    }
   ],
   "source": [
    "samples = posterior.sample((100000,), x=x_obs)\n",
    "#sample 100000 possible values for theta from the posterior "
   ]
  },
  {
   "cell_type": "code",
   "execution_count": null,
   "id": "0cbba17e",
   "metadata": {},
   "outputs": [
    {
     "data": {
      "image/png": "[encoded data removed]",
      "text/plain": [
       "<Figure size 500x500 with 9 Axes>"
      ]
     },
     "metadata": {},
     "output_type": "display_data"
    }
   ],
   "source": [
    "from sbi.analysis import pairplot\n",
    "\n",
    "_ = pairplot(\n",
    "    samples,\n",
    "    limits = [[-2,2], [-2,2], [-2,2]],\n",
    "    figsize = (5,5),\n",
    "    labels=[r\"$\\theta_1$\", r\"$\\theta_2$\", r\"$\\theta_3$\"]\n",
    "\n",
    "\n",
    "\n",
    ")\n",
    "\n",
    "#histograms for theta (1,2,3)\n",
    "#correlation is purple \n",
    "# circle means uncorrelated\n",
    "# diagonal means some relationship"
   ]
  },
  {
   "cell_type": "markdown",
   "id": "8b065496",
   "metadata": {},
   "source": [
    "checking if we are correct"
   ]
  },
  {
   "cell_type": "code",
   "execution_count": null,
   "id": "0d08c376",
   "metadata": {},
   "outputs": [
    {
     "name": "stderr",
     "output_type": "stream",
     "text": [
      "100%|██████████| 10000/10000 [00:00<00:00, 182549.15it/s]\n"
     ]
    }
   ],
   "source": [
    "theta_posterior = posterior.sample((10000,), x=x_obs)\n",
    "x_predictive = simulator(theta_posterior)\n",
    "#take your observed x and run it through the posterior to genreate many possible thetas\n",
    "# pass the theta through the simulator to see what ACTUAL results they would product"
   ]
  },
  {
   "cell_type": "code",
   "execution_count": null,
   "id": "c558d238",
   "metadata": {},
   "outputs": [
    {
     "name": "stdout",
     "output_type": "stream",
     "text": [
      "posterior predictives tensor([0.8021, 0.6246, 0.4212])\n",
      "observation: tensor([0.8000, 0.6000, 0.4000])\n"
     ]
    }
   ],
   "source": [
    "print(\"posterior predictives\", torch.mean(x_predictive, axis = 0))\n",
    "print('observation:', x_obs)\n",
    "# compare x observed and the x you got with your predicted theta"
   ]
  }
 ],
 "metadata": {
  "kernelspec": {
   "display_name": "sbi",
   "language": "python",
   "name": "python3"
  },
  "language_info": {
   "codemirror_mode": {
    "name": "ipython",
    "version": 3
   },
   "file_extension": ".py",
   "mimetype": "text/x-python",
   "name": "python",
   "nbconvert_exporter": "python",
   "pygments_lexer": "ipython3",
   "version": "3.12.11"
  }
 },
 "nbformat": 4,
 "nbformat_minor": 5
}
