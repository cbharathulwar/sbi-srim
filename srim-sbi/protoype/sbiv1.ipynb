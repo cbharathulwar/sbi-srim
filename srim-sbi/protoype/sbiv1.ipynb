{
 "cells": [
  {
   "cell_type": "code",
   "execution_count": 1,
   "id": "9543d32a",
   "metadata": {},
   "outputs": [],
   "source": [
    "import numpy as np\n",
    "import pandas as pd\n",
    "import os"
   ]
  },
  {
   "cell_type": "code",
   "execution_count": 2,
   "id": "0698e032",
   "metadata": {},
   "outputs": [],
   "source": [
    "data_path = '../data/all_vacancies.csv'\n",
    "df = pd.read_csv(data_path)\n",
    "df.columns = [\"x\", \"y\", \"z\", \"ion\", \"energy\"]\n",
    "grouped = df.groupby([\"ion\", \"energy\"])"
   ]
  },
  {
   "cell_type": "code",
   "execution_count": 3,
   "id": "d0f1ffee",
   "metadata": {},
   "outputs": [],
   "source": [
    "from sklearn.model_selection import train_test_split\n",
    "import torch\n",
    "\n",
    "x_obs = []\n",
    "theta = []\n",
    "\n",
    "for (ion, energy), group in grouped:\n",
    "    # group is a mini-DataFrame with all rows that share this ion + energy\n",
    "\n",
    "\n",
    "    track = group[[\"x\", \"y\", \"z\"]].values  # → shape (n_points, 3)\n",
    "\n",
    "    # Summarize this track (e.g., mean and std of z)\n",
    "    mean_x = np.mean(track[:, 0])\n",
    "    std_x = np.std(track[:, 0])\n",
    "    num_vac = track.shape[0]\n",
    "\n",
    "\n",
    "    x_obs.append([mean_x, std_x, num_vac])  # Feature vector for this track\n",
    "    theta.append([energy])  # Just using energy for now\n",
    "    "
   ]
  },
  {
   "cell_type": "code",
   "execution_count": 4,
   "id": "8105b044",
   "metadata": {},
   "outputs": [],
   "source": [
    "x_obs = torch.tensor(x_obs, dtype=torch.float32)\n",
    "theta = torch.tensor(theta, dtype=torch.float32)"
   ]
  },
  {
   "cell_type": "code",
   "execution_count": 5,
   "id": "774aa6cf",
   "metadata": {},
   "outputs": [],
   "source": [
    "from sklearn.model_selection import train_test_split\n",
    "\n",
    "theta_np = theta.numpy()\n",
    "x_obs_np = x_obs.numpy()\n",
    "\n",
    "x_train, x_test, theta_train, theta_test = train_test_split(\n",
    "    x_obs_np, theta_np, test_size=0.2, random_state=42\n",
    ")"
   ]
  },
  {
   "cell_type": "code",
   "execution_count": 6,
   "id": "e0c546d8",
   "metadata": {},
   "outputs": [],
   "source": [
    "x_train = torch.tensor(x_train, dtype=torch.float32)\n",
    "x_test = torch.tensor(x_test, dtype=torch.float32)\n",
    "theta_train = torch.tensor(theta_train, dtype=torch.float32)\n",
    "theta_test = torch.tensor(theta_test, dtype=torch.float32)"
   ]
  },
  {
   "cell_type": "code",
   "execution_count": 7,
   "id": "39fa21a5",
   "metadata": {},
   "outputs": [
    {
     "name": "stderr",
     "output_type": "stream",
     "text": [
      "/opt/homebrew/Caskroom/miniconda/base/envs/sbi/lib/python3.12/site-packages/tqdm/auto.py:21: TqdmWarning: IProgress not found. Please update jupyter and ipywidgets. See https://ipywidgets.readthedocs.io/en/stable/user_install.html\n",
      "  from .autonotebook import tqdm as notebook_tqdm\n"
     ]
    }
   ],
   "source": [
    "from sbi.utils import BoxUniform\n",
    "import torch\n",
    "\n",
    "low = torch.tensor([1000.0])\n",
    "high = torch.tensor([2000000.0])\n",
    "\n",
    "prior = BoxUniform(low, high)"
   ]
  },
  {
   "cell_type": "code",
   "execution_count": 8,
   "id": "81d991ba",
   "metadata": {},
   "outputs": [],
   "source": [
    "from sbi.inference import NPE\n",
    "inference = NPE(prior=prior)"
   ]
  },
  {
   "cell_type": "code",
   "execution_count": 9,
   "id": "bedb7ccd",
   "metadata": {},
   "outputs": [
    {
     "name": "stderr",
     "output_type": "stream",
     "text": [
      "/opt/homebrew/Caskroom/miniconda/base/envs/sbi/lib/python3.12/site-packages/sbi/neural_nets/net_builders/flow.py:149: UserWarning: In one-dimensional output space, this flow is limited to Gaussians\n",
      "  x_numel = get_numel(\n"
     ]
    },
    {
     "name": "stdout",
     "output_type": "stream",
     "text": [
      " Neural network successfully converged after 250 epochs."
     ]
    }
   ],
   "source": [
    "posterior_net = inference.append_simulations(theta_train, x_train).train()"
   ]
  },
  {
   "cell_type": "code",
   "execution_count": 10,
   "id": "a5b4c8f1",
   "metadata": {},
   "outputs": [],
   "source": [
    "posterior = inference.build_posterior()"
   ]
  },
  {
   "cell_type": "code",
   "execution_count": 11,
   "id": "82722e67",
   "metadata": {},
   "outputs": [],
   "source": [
    "x0 = x_test[0:1]"
   ]
  },
  {
   "cell_type": "markdown",
   "id": "431db59e",
   "metadata": {},
   "source": []
  },
  {
   "cell_type": "code",
   "execution_count": 13,
   "id": "a8012eff",
   "metadata": {},
   "outputs": [
    {
     "name": "stderr",
     "output_type": "stream",
     "text": [
      "1107it [00:00, 57256.42it/s]            \n"
     ]
    }
   ],
   "source": [
    "samples = posterior.sample((1_000,), x0)\n"
   ]
  },
  {
   "cell_type": "code",
   "execution_count": 14,
   "id": "e2559e7a",
   "metadata": {},
   "outputs": [
    {
     "data": {
      "image/png": "[encoded data removed]",
      "text/plain": [
       "<Figure size 640x480 with 1 Axes>"
      ]
     },
     "metadata": {},
     "output_type": "display_data"
    }
   ],
   "source": [
    "import matplotlib.pyplot as plt\n",
    "\n",
    "samples_np = samples.numpy().squeeze()\n",
    "\n",
    "plt.hist(samples_np, bins=50, color='skyblue', edgecolor='black')\n",
    "plt.xlabel(\"Energy (keV)\")\n",
    "plt.ylabel(\"Frequency\")\n",
    "plt.title(\"Posterior Samples of θ (Energy)\")\n",
    "plt.grid(True)\n",
    "plt.show() "
   ]
  },
  {
   "cell_type": "code",
   "execution_count": 15,
   "id": "ddb83d7d",
   "metadata": {},
   "outputs": [
    {
     "name": "stdout",
     "output_type": "stream",
     "text": [
      "Estimated energy (median): 1917287.25\n"
     ]
    }
   ],
   "source": [
    "theta_point_estimate = samples.median().item()\n",
    "print(\"Estimated energy (median):\", theta_point_estimate)"
   ]
  },
  {
   "cell_type": "code",
   "execution_count": 21,
   "id": "0365ab6f",
   "metadata": {},
   "outputs": [
    {
     "name": "stdout",
     "output_type": "stream",
     "text": [
      "Energy: 2000000.0\n"
     ]
    }
   ],
   "source": [
    "theta0 = theta_test[0:1]\n",
    "print('Energy:', theta0.item())"
   ]
  }
 ],
 "metadata": {
  "kernelspec": {
   "display_name": "sbi",
   "language": "python",
   "name": "python3"
  },
  "language_info": {
   "codemirror_mode": {
    "name": "ipython",
    "version": 3
   },
   "file_extension": ".py",
   "mimetype": "text/x-python",
   "name": "python",
   "nbconvert_exporter": "python",
   "pygments_lexer": "ipython3",
   "version": "3.12.11"
  }
 },
 "nbformat": 4,
 "nbformat_minor": 5
}
