{
 "cells": [
  {
   "cell_type": "markdown",
   "id": "f1c2c1e5",
   "metadata": {},
   "source": [
    "# <span style=\"color:#1f77b4; font-weight:bold; font-family:Helvetica\">Simulation Based Inference for Ion Implantation</span>\n",
    "\n",
    " <span style=\"color:#white; font-weight:bold; font-family:Helvetica\">Chinmay Bharathulwar</span>\n",
    "\n",
    "Using SRIM simulations + SBI to infer ion energy from recoil tracks"
   ]
  },
  {
   "cell_type": "markdown",
   "id": "727afc60",
   "metadata": {},
   "source": [
    "## Setup\n",
    "\n",
    "\n"
   ]
  },
  {
   "cell_type": "code",
   "execution_count": null,
   "id": "9543d32a",
   "metadata": {},
   "outputs": [],
   "source": [
    "#Import all necessary libraries and dependencies\n",
    "import numpy as np\n",
    "import pandas as pd\n",
    "import torch\n",
    "from pathlib import Path\n",
    "import matplotlib.pyplot as plt\n",
    "import random\n",
    "import shutil\n",
    "import os\n",
    "from sbi.utils import BoxUniform\n",
    "from srim import TRIM, Ion, Layer, Target\n",
    "import os, re, math\n",
    "from typing import Dict, List"
   ]
  },
  {
   "cell_type": "markdown",
   "id": "a9b83835",
   "metadata": {},
   "source": [
    "## Data Preprocessing "
   ]
  },
  {
   "cell_type": "code",
   "execution_count": null,
   "id": "0698e032",
   "metadata": {},
   "outputs": [],
   "source": [
    "# import raw data and group by ion and energy\n",
    "data_path = '../data/all_vacancies.csv'\n",
    "df = pd.read_csv(data_path)\n",
    "df.columns = [\"x\", \"y\", \"z\", \"ion\", \"energy\"]\n",
    "grouped = df.groupby([\"ion\", \"energy\"])"
   ]
  },
  {
   "cell_type": "code",
   "execution_count": null,
   "id": "d0f1ffee",
   "metadata": {},
   "outputs": [],
   "source": [
    "#set up x_obs and theta\n",
    "x_obs = []\n",
    "theta = []\n",
    "\n",
    "for (ion, energy), group in grouped:\n",
    "    # group is a mini-DataFrame with all rows that share this ion + energy\n",
    "\n",
    "\n",
    "    track = group[[\"x\", \"y\", \"z\"]].values  # → shape (n_points, 3)\n",
    "\n",
    "    # Summarize this track (e.g., mean and std of z)\n",
    "    mean_x = np.mean(track[:, 0])\n",
    "    std_x = np.std(track[:, 0])\n",
    "    num_vac = track.shape[0]\n",
    "\n",
    "\n",
    "    x_obs.append([mean_x, std_x, num_vac])  # Feature vector for this track\n",
    "    theta.append([energy])  # Just using energy for now\n",
    "    "
   ]
  },
  {
   "cell_type": "code",
   "execution_count": null,
   "id": "8105b044",
   "metadata": {},
   "outputs": [],
   "source": [
    "#convert to tensor\n",
    "x_obs = torch.tensor(x_obs, dtype=torch.float32)\n",
    "theta = torch.tensor(theta, dtype=torch.float32)"
   ]
  },
  {
   "cell_type": "markdown",
   "id": "51627661",
   "metadata": {},
   "source": [
    "## Simulation Based Inference"
   ]
  },
  {
   "cell_type": "code",
   "execution_count": null,
   "id": "39fa21a5",
   "metadata": {},
   "outputs": [],
   "source": [
    "#set up prior \n",
    "low = torch.tensor([1000.0])\n",
    "high = torch.tensor([2000000.0])\n",
    "prior = BoxUniform(low, high)"
   ]
  },
  {
   "cell_type": "code",
   "execution_count": null,
   "id": "81d991ba",
   "metadata": {},
   "outputs": [],
   "source": [
    "#set up infernece object\n",
    "from sbi.inference import NPE\n",
    "inference = NPE(prior=prior, density_estimator=\"nsf\")"
   ]
  },
  {
   "cell_type": "code",
   "execution_count": null,
   "id": "bedb7ccd",
   "metadata": {},
   "outputs": [
    {
     "name": "stdout",
     "output_type": "stream",
     "text": [
      " Neural network successfully converged after 145 epochs."
     ]
    }
   ],
   "source": [
    "#train nn \n",
    "posterior_net = inference.append_simulations(theta, x_obs).train()"
   ]
  },
  {
   "cell_type": "code",
   "execution_count": null,
   "id": "a5b4c8f1",
   "metadata": {},
   "outputs": [],
   "source": [
    "#create usable posterior object\n",
    "posterior = inference.build_posterior()"
   ]
  },
  {
   "cell_type": "markdown",
   "id": "f9b660c1",
   "metadata": {},
   "source": [
    "## Posterior Predictive Checks (PPC)"
   ]
  },
  {
   "cell_type": "code",
   "execution_count": null,
   "id": "3a7631a9",
   "metadata": {},
   "outputs": [],
   "source": [
    "#define paramater used to perform PPC and find theta distribution\n",
    "x_test = x_obs[0:1]"
   ]
  },
  {
   "cell_type": "code",
   "execution_count": null,
   "id": "4c5a8a4b",
   "metadata": {},
   "outputs": [],
   "source": [
    "#find 1000 thetas using posterior object \n",
    "samples = posterior.sample((1000,), x_test)"
   ]
  },
  {
   "cell_type": "code",
   "execution_count": null,
   "id": "5c386948",
   "metadata": {},
   "outputs": [],
   "source": [
    "#define functions for running PySRIM and saving data for some numumber of thetas\n",
    "\n",
    "# All the files we typically want to archive from a TRIM run\n",
    "KNOWN_TXT_OUTPUTS = [\n",
    "    \"TDATA.txt\", \"RANGE.txt\", \"VACANCY.txt\", \"IONIZ.txt\",\n",
    "    \"PHONON.txt\", \"E2RECOIL.txt\", \"NOVAC.txt\", \"LATERAL.txt\"\n",
    "]\n",
    "ALSO_COPY = [\"TRIM.IN\", \"TRIMAUTO\"]  # not tables, but useful for audit\n",
    "\n",
    "def run_srim_for_theta(theta_eV,\n",
    "                       srim_directory,\n",
    "                       output_base,\n",
    "                       ion_symbol=\"C\",\n",
    "                       number_ions=200,\n",
    "                       calculation=1,\n",
    "                       layer_spec=None,\n",
    "                       density_g_cm3=3.51,\n",
    "                       width_A=15000.0,\n",
    "                       overwrite=False):\n",
    "    \"\"\"\n",
    "    Run SRIM at a given energy and save results to a unique folder.\n",
    "\n",
    "    Parameters\n",
    "    ----------\n",
    "    theta_eV : float\n",
    "        Ion energy in eV (e.g., 1e3 for 1 keV).\n",
    "    srim_directory : str\n",
    "        Path to the SRIM-2013 directory (where TRIM.exe lives).\n",
    "    output_base : str\n",
    "        Base directory under which a unique folder per theta will be created.\n",
    "    ion_symbol : str\n",
    "        Element symbol for the ion (default: \"C\").\n",
    "    number_ions : int\n",
    "        Number of ions to simulate (default: 200).\n",
    "    calculation : int\n",
    "        TRIM calculation mode (1 = quick KP).\n",
    "    layer_spec : dict|None\n",
    "        Layer element dict; default is pure Carbon with E_d=30 eV, etc.\n",
    "    density_g_cm3 : float\n",
    "        Layer density (default: 3.51 g/cm^3, graphite-like).\n",
    "    width_A : float\n",
    "        Layer thickness in Å (default: 15000 Å = 1.5 μm).\n",
    "    overwrite : bool\n",
    "        If True, delete an existing theta folder before writing.\n",
    "\n",
    "    Returns\n",
    "    -------\n",
    "    output_dir : str\n",
    "        Path to the unique folder containing this run’s outputs.\n",
    "    \"\"\"\n",
    "    srim_dir = Path(srim_directory)\n",
    "    out_base = Path(output_base)\n",
    "\n",
    "    # Folder name: theta_<energy in eV, rounded>\n",
    "    theta_tag = f\"theta_{int(round(float(theta_eV)))}\"\n",
    "    out_dir = out_base / theta_tag\n",
    "    if out_dir.exists() and overwrite:\n",
    "        shutil.rmtree(out_dir)\n",
    "    out_dir.mkdir(parents=True, exist_ok=True)\n",
    "\n",
    "    # Clean old outputs from the SRIM directory so we only copy fresh files\n",
    "    for name in KNOWN_TXT_OUTPUTS + ALSO_COPY:\n",
    "        p = srim_dir / name\n",
    "        if p.exists():\n",
    "            p.unlink()\n",
    "\n",
    "    # Default layer: pure Carbon, adjust if you use a different target\n",
    "    if layer_spec is None:\n",
    "        layer_spec = {'C': {'stoich': 1.0, 'E_d': 30.0, 'lattice': 0.0, 'surface': 3.0}}\n",
    "\n",
    "    # Build ion/target and run TRIM\n",
    "    ion = Ion(ion_symbol, energy=float(theta_eV))\n",
    "    layer = Layer(layer_spec, density=density_g_cm3, width=width_A)\n",
    "    target = Target([layer])\n",
    "\n",
    "    trim = TRIM(target, ion, number_ions=number_ions, calculation=calculation)\n",
    "    trim.run(str(srim_dir))  # writes outputs directly into srim_directory\n",
    "\n",
    "    # Copy fresh outputs from SRIM-2013 into the unique theta folder\n",
    "    copied = []\n",
    "    for name in KNOWN_TXT_OUTPUTS + ALSO_COPY:\n",
    "        src = srim_dir / name\n",
    "        if src.exists():\n",
    "            shutil.copy2(src, out_dir / name)\n",
    "            copied.append(name)\n",
    "\n",
    "    # Sanity check: if TDATA.txt isn't there, the run likely failed\n",
    "    if \"TDATA.txt\" not in copied:\n",
    "        raise RuntimeError(\n",
    "            f\"SRIM run at {theta_eV} eV produced no TDATA.txt in {srim_dir}. \"\n",
    "            f\"Copied files: {copied}\"\n",
    "        )\n",
    "\n",
    "    return str(out_dir)\n",
    "\n",
    "\n",
    "def run_srim_batch(thetas_eV,\n",
    "                   srim_directory,\n",
    "                   output_base,\n",
    "                   **kwargs):\n",
    "    \"\"\"\n",
    "    Run SRIM for many energies and save each run to its own folder.\n",
    "\n",
    "    Returns\n",
    "    -------\n",
    "    runs : list[tuple(float, str)]\n",
    "        List of (theta_eV, output_folder) pairs in the same order as input.\n",
    "    \"\"\"\n",
    "    results = []\n",
    "    for theta in thetas_eV:\n",
    "        print(f\"[SRIM] Running theta = {theta} eV ...\")\n",
    "        folder = run_srim_for_theta(theta, srim_directory, output_base, **kwargs)\n",
    "        print(f\"[SRIM]   → saved to: {folder}\")\n",
    "        results.append((theta, folder))\n",
    "    return results"
   ]
  },
  {
   "cell_type": "code",
   "execution_count": null,
   "id": "f866157c",
   "metadata": {},
   "outputs": [],
   "source": [
    "#using functions and run SRIM for 50 random thetas from predicted thetas\n",
    "srim_dir   = \"/Users/cbharathulwar/Documents/Research/Walsworth/SRIM-2013\"\n",
    "outputs_to = \"/Users/cbharathulwar/Documents/Research/Walsworth/SRIM-2013/Outputs\"\n",
    "\n",
    "thetas =thetas = samples.detach().cpu().numpy().flatten().tolist()\n",
    "thetas = random.sample(thetas, 50)\n",
    "\n",
    "runs = run_srim_batch(\n",
    "    thetas,\n",
    "    srim_directory=srim_dir,\n",
    "    output_base=outputs_to,\n",
    "    ion_symbol=\"C\",\n",
    "    number_ions=200,   # bump to 500–1000 later if you need lower noise\n",
    "    calculation=1,\n",
    "    overwrite=True     # delete existing theta_* folders if they exist\n",
    ")\n",
    "\n",
    "# runs is a list of (theta_eV, folder_path) you can parse next"
   ]
  },
  {
   "cell_type": "code",
   "execution_count": null,
   "id": "7b73396f",
   "metadata": {},
   "outputs": [],
   "source": [
    "#define functions for parsing through SRIM data files and summarize data \n",
    "\n",
    "_FLOAT = r'([+-]?\\d+(?:\\.\\d*)?(?:[Ee][+-]?\\d+)?)'\n",
    "\n",
    "def _find_file(folder: str, filename: str) -> str:\n",
    "    \"\"\"Find a file by exact name (case-insensitive) in folder or 'SRIM Outputs'.\"\"\"\n",
    "    target = filename.lower()\n",
    "    if os.path.isfile(folder) and os.path.basename(folder).lower() == target:\n",
    "        return folder\n",
    "    if os.path.isdir(folder):\n",
    "        for fn in os.listdir(folder):\n",
    "            if fn.lower() == target:\n",
    "                return os.path.join(folder, fn)\n",
    "        so = os.path.join(folder, \"SRIM Outputs\")\n",
    "        if os.path.isdir(so):\n",
    "            for fn in os.listdir(so):\n",
    "                if fn.lower() == target:\n",
    "                    return os.path.join(so, fn)\n",
    "    raise FileNotFoundError(f\"{filename} not found under '{folder}'.\")\n",
    "\n",
    "def _parse_tdata(path: str) -> Dict[str, float]:\n",
    "    energy_keV = avg_range_A = avg_straggling_A = avg_vac_per_ion = None\n",
    "    with open(path, \"r\", errors=\"ignore\") as f:\n",
    "        for raw in f:\n",
    "            line = raw.strip()\n",
    "            if energy_keV is None and \"Energy\" in line and \"keV\" in line:\n",
    "                m = re.search(_FLOAT, line);    energy_keV = float(m.group(1)) if m else None\n",
    "            elif line.startswith(\"Average Range\"):\n",
    "                m = re.search(_FLOAT, line);    avg_range_A = float(m.group(1)) if m else None\n",
    "            elif line.startswith(\"Average Straggling\"):\n",
    "                m = re.search(_FLOAT, line);    avg_straggling_A = float(m.group(1)) if m else None\n",
    "            elif line.startswith(\"Average Vacancy/Ion\"):\n",
    "                m = re.search(_FLOAT, line);    avg_vac_per_ion = float(m.group(1)) if m else None\n",
    "    if None in (energy_keV, avg_range_A, avg_straggling_A, avg_vac_per_ion):\n",
    "        raise ValueError(\"TDATA.txt missing required fields.\")\n",
    "    return {\n",
    "        \"theta_eV\": energy_keV * 1_000.0,\n",
    "        \"mean_depth_A\": avg_range_A,\n",
    "        \"std_depth_A\": avg_straggling_A,\n",
    "        \"vacancies_per_ion_tdata\": avg_vac_per_ion,\n",
    "    }\n",
    "\n",
    "def _parse_vacancy(path: str) -> Dict[str, float]:\n",
    "    total_header = None\n",
    "    depths: List[float] = []; ions: List[float] = []; recoils: List[float] = []\n",
    "    with open(path, \"r\", errors=\"ignore\") as f:\n",
    "        lines = f.readlines()\n",
    "    # header total\n",
    "    for line in lines:\n",
    "        if \"Total Target Vacancies\" in line and \"/Ion\" in line:\n",
    "            m = re.search(r'=\\s*' + _FLOAT + r'\\s*/Ion', line)\n",
    "            if m: total_header = float(m.group(1))\n",
    "            break\n",
    "    # numeric rows: depth, by ions, by recoils\n",
    "    numrow = re.compile(r'^\\s*' + _FLOAT + r'\\s+' + _FLOAT + r'\\s+' + _FLOAT + r'\\s*$')\n",
    "    for line in lines:\n",
    "        m = numrow.match(line)\n",
    "        if m:\n",
    "            depths.append(float(m.group(1)))\n",
    "            ions.append(float(m.group(2)))\n",
    "            recoils.append(float(m.group(3)))\n",
    "    total_integrated = float(\"nan\"); mean_depth = float(\"nan\"); std_depth = float(\"nan\")\n",
    "    if len(depths) >= 2:\n",
    "        rho = [a + b for a, b in zip(ions, recoils)]  # Vac/(Å·Ion)\n",
    "        widths = [depths[i+1] - depths[i] for i in range(len(depths)-1)]\n",
    "        widths.append(widths[-1])                     # last bin width ~= previous\n",
    "        counts = [r * w for r, w in zip(rho, widths)] # Vac/Ion in each bin\n",
    "        total_integrated = sum(counts)\n",
    "        if total_integrated > 0:\n",
    "            mean_depth = sum(x*c for x,c in zip(depths, counts)) / total_integrated\n",
    "            var = sum(((x-mean_depth)**2)*c for x,c in zip(depths, counts)) / total_integrated\n",
    "            std_depth = math.sqrt(var)\n",
    "    mismatch_pct = None\n",
    "    if total_header not in (None, 0) and not math.isnan(total_integrated):\n",
    "        mismatch_pct = 100.0 * (total_integrated - total_header) / total_header\n",
    "    return {\n",
    "        \"vacancies_per_ion_vacancy_header\": total_header,\n",
    "        \"vacancies_per_ion_vacancy_integrated\": total_integrated,\n",
    "        \"vacancy_depth_mean_from_table_A\": mean_depth,\n",
    "        \"vacancy_depth_std_from_table_A\": std_depth,\n",
    "        \"vacancy_integral_mismatch_pct\": mismatch_pct,\n",
    "    }\n",
    "\n",
    "def summarize_srim_output(folder: str) -> Dict[str, float]:\n",
    "    \"\"\"Return the 3 core quantities + sanity checks from TDATA.txt and VACANCY.txt.\"\"\"\n",
    "    tdata = _parse_tdata(_find_file(folder, \"TDATA.txt\"))\n",
    "    vac   = _parse_vacancy(_find_file(folder, \"VACANCY.txt\"))\n",
    "    return {\n",
    "        # core outputs you should use in PPC + modeling\n",
    "        \"theta_eV\": tdata[\"theta_eV\"],\n",
    "        \"mean_depth_A\": tdata[\"mean_depth_A\"],\n",
    "        \"std_depth_A\": tdata[\"std_depth_A\"],\n",
    "        \"vacancies_per_ion\": tdata[\"vacancies_per_ion_tdata\"],\n",
    "        # extra fields for debugging / audits\n",
    "        **tdata,\n",
    "        **vac,\n",
    "    }\n",
    "\n",
    "def summarize_all_runs(output_base):\n",
    "    \"\"\"\n",
    "    Loop through all theta_* folders under output_base,\n",
    "    summarize each run, and return a DataFrame.\n",
    "    \"\"\"\n",
    "    base = Path(output_base)\n",
    "    summaries = []\n",
    "\n",
    "    for folder in sorted(base.glob(\"theta_*\")):\n",
    "        if folder.is_dir():\n",
    "            theta_str = folder.name.replace(\"theta_\", \"\")\n",
    "            try:\n",
    "                theta_val = float(theta_str)\n",
    "            except ValueError:\n",
    "                theta_val = None\n",
    "\n",
    "            summary = summarize_srim_output(folder)\n",
    "            summary[\"theta_eV\"] = theta_val\n",
    "            summary[\"folder\"] = str(folder)\n",
    "\n",
    "            summaries.append(summary)\n",
    "\n",
    "    return pd.DataFrame(summaries)\n",
    "\n",
    "\n"
   ]
  },
  {
   "cell_type": "code",
   "execution_count": null,
   "id": "b19da2db",
   "metadata": {},
   "outputs": [],
   "source": [
    "#run data collection and summary function\n",
    "output_base = \"/Users/cbharathulwar/Documents/Research/Walsworth/SRIM-2013/Outputs\"\n",
    "df = summarize_all_runs(output_base)"
   ]
  },
  {
   "cell_type": "code",
   "execution_count": null,
   "id": "504758a8",
   "metadata": {},
   "outputs": [
    {
     "name": "stdout",
     "output_type": "stream",
     "text": [
      "{'mean_range': 26.575666427612305, 'long_straggling': 10.010303497314453, 'total_vacancies': 6.0}\n"
     ]
    }
   ],
   "source": [
    "#set up observed (ground truth) vector for futher visualizatoin\n",
    "x_test_np = x_test[0].numpy()  # convert to numpy array\n",
    "\n",
    "observed = {\n",
    "    \"mean_range\": float(x_test_np[0]),\n",
    "    \"long_straggling\": float(x_test_np[1]),\n",
    "    \"total_vacancies\": float(x_test_np[2])\n",
    "}\n",
    "\n",
    "print(observed)"
   ]
  },
  {
   "cell_type": "code",
   "execution_count": null,
   "id": "9e945e96",
   "metadata": {},
   "outputs": [],
   "source": [
    "#define function for PPC visualization\n",
    "\n",
    "def plot_ppc_histograms(df, observed, bins=30):\n",
    "    \"\"\"\n",
    "    Plot posterior predictive checks (PPC) for SRIM summaries.\n",
    "    \n",
    "    Parameters\n",
    "    ----------\n",
    "    df : pd.DataFrame\n",
    "        Summarized SRIM simulation results. Must contain:\n",
    "        - mean_depth_A\n",
    "        - std_depth_A\n",
    "        - vacancies_per_ion\n",
    "    observed : dict\n",
    "        Observed values. Can use either canonical keys\n",
    "        (mean_depth_A, std_depth_A, vacancies_per_ion)\n",
    "        or legacy keys (mean_range, long_straggling, total_vacancies).\n",
    "    bins : int\n",
    "        Number of histogram bins.\n",
    "    \"\"\"\n",
    "\n",
    "    # Map legacy keys → canonical\n",
    "    key_map = {\n",
    "        \"mean_range\": \"mean_depth_A\",\n",
    "        \"long_straggling\": \"std_depth_A\",\n",
    "        \"total_vacancies\": \"vacancies_per_ion\"\n",
    "    }\n",
    "\n",
    "    observed_mapped = {}\n",
    "    for k, v in observed.items():\n",
    "        canonical = key_map.get(k, k)  # default to itself if already canonical\n",
    "        observed_mapped[canonical] = v\n",
    "\n",
    "    features = [\"mean_depth_A\", \"std_depth_A\", \"vacancies_per_ion\"]\n",
    "    titles = [\"Mean Depth (Å)\", \"Std. Depth (Å)\", \"Vacancies per Ion\"]\n",
    "\n",
    "    for feat, title in zip(features, titles):\n",
    "        vals = df[feat].dropna().values\n",
    "        obs_val = observed_mapped.get(feat, None)\n",
    "\n",
    "        plt.figure(figsize=(6, 4))\n",
    "        plt.hist(vals, bins=bins, alpha=0.7, edgecolor=\"k\")\n",
    "        if obs_val is not None:\n",
    "            plt.axvline(obs_val, color=\"red\", linestyle=\"--\", label=f\"Observed = {obs_val:.2f}\")\n",
    "        \n",
    "        # annotate stats\n",
    "        mu, sigma = np.mean(vals), np.std(vals)\n",
    "        plt.axvline(mu, color=\"blue\", linestyle=\":\", label=f\"μ = {mu:.2f}\")\n",
    "        plt.axvline(mu + sigma, color=\"gray\", linestyle=\":\", alpha=0.5, label=f\"σ = {sigma:.2f}\")\n",
    "        plt.axvline(mu - sigma, color=\"gray\", linestyle=\":\", alpha=0.5)\n",
    "\n",
    "        plt.title(f\"PPC for {title}\")\n",
    "        plt.xlabel(feat)\n",
    "        plt.ylabel(\"Count\")\n",
    "        plt.legend()\n",
    "        plt.tight_layout()\n",
    "        plt.show()"
   ]
  },
  {
   "cell_type": "code",
   "execution_count": null,
   "id": "f6868b16",
   "metadata": {},
   "outputs": [
    {
     "data": {
      "image/png": "[encoded data removed]",
      "text/plain": [
       "<Figure size 600x400 with 1 Axes>"
      ]
     },
     "metadata": {},
     "output_type": "display_data"
    },
    {
     "data": {
      "image/png": "[encoded data removed]",
      "text/plain": [
       "<Figure size 600x400 with 1 Axes>"
      ]
     },
     "metadata": {},
     "output_type": "display_data"
    },
    {
     "data": {
      "image/png": "[encoded data removed]",
      "text/plain": [
       "<Figure size 600x400 with 1 Axes>"
      ]
     },
     "metadata": {},
     "output_type": "display_data"
    }
   ],
   "source": [
    "#visualize PPC\n",
    "plot_ppc_histograms(df, observed, bins=30)"
   ]
  },
  {
   "cell_type": "markdown",
   "id": "b81ebd55",
   "metadata": {},
   "source": [
    "## Conclusion\n",
    "\n",
    "Simulation-Based Inference shows potential for estimating ion implantation parameters from damage profiles, offering a flexible and efficient alternative to standard fitting methods.The results from this run show a reasonable match between observed features and posterior predictive checks, suggesting the method is learning useful patterns but still has room to improve. Next steps include adding more parameters (angle, ion type, layer material), improving the neural density estimator, applying Simulation-Based Calibration (SBC) for validation, and running larger simulation sets for stronger results.\n"
   ]
  }
 ],
 "metadata": {
  "kernelspec": {
   "display_name": "sbi",
   "language": "python",
   "name": "python3"
  },
  "language_info": {
   "codemirror_mode": {
    "name": "ipython",
    "version": 3
   },
   "file_extension": ".py",
   "mimetype": "text/x-python",
   "name": "python",
   "nbconvert_exporter": "python",
   "pygments_lexer": "ipython3",
   "version": "3.12.11"
  }
 },
 "nbformat": 4,
 "nbformat_minor": 5
}
